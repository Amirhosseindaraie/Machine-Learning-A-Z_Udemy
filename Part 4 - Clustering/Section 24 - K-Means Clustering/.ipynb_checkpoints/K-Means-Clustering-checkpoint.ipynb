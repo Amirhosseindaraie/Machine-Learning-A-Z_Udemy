{
 "cells": [
  {
   "cell_type": "markdown",
   "metadata": {},
   "source": [
    "## Classification Template"
   ]
  },
  {
   "cell_type": "markdown",
   "metadata": {},
   "source": [
    "### Index \n",
    "- [Equation and Method](#equation)\n",
    "- [Pre processing](#preprocessing)\n",
    "- [Building the model](#building)\n",
    "- [Result](#result)"
   ]
  },
  {
   "cell_type": "code",
   "execution_count": 1,
   "metadata": {
    "collapsed": true
   },
   "outputs": [],
   "source": [
    "# importing some basic libraries\n",
    "import numpy as np\n",
    "import pandas as pd\n",
    "import matplotlib.pyplot as plt"
   ]
  },
  {
   "cell_type": "markdown",
   "metadata": {},
   "source": [
    "<a id='equation'></a>\n",
    "### Equation and Method\n",
    "\n",
    "The basic idea behind K-Means Clustering is to initialize random clustering points. The K in K-Means Clustering stands for the number of cluster points that we are taking in the dataset. We take the K points, and then we group the data according to whichever is closest to the clustering points. The main Algorithms of K-Means Clustering is,\n",
    "\n",
    "1. Choose the number of K Clustering points.\n",
    "2. Select at random K points, the centroid. (Not necessarily from the data points.)\n",
    "3. Assign each data points to the K clusters according to whichever is closest to.\n",
    "4. Compute and place each centroid of the new cluster.\n",
    "5. Reassign each data point to the closest cluster, if there is any reassigning of the clusters taking place, then go to step 4 and do it iteratively till there is no reassigning.\n",
    "\n",
    "<img src=\"https://i.ytimg.com/vi/_aWzGGNrcic/hqdefault.jpg\" style=\"margin:0px;\">\n",
    "\n",
    "##### Random Initialization Trap\n",
    "This is the phenomenon by which different random initialization of the k points can result in different types of clustering taking place. In that, some of the clusters will be better than the other, To find the optimal intialization of the random K points, we use something called K++ Mean Clustering. The scikit learn library automatically handles this for us. \n",
    "\n",
    "##### Finding the right number of K-Points.\n",
    "\n",
    "<img src=\"http://www.treselle.com/wp-content/uploads/2017/05/k_means_elbow_method.png\" style=\"margin:0px;\" width=500>\n",
    "\n",
    "This is a graph showing the WCSS (Within Clusters Sum of Squares), this is the sum of squares of the distance between the centroid and the data points of all the clusters. As we can see, as the number of K points increases, the WCSS value decreases. But that doesnt mean that the minimum is always better. What we have to look for is, the point where the drastic changing of the WCSS value happens and we have to select that many number of K points. This will be the optimal value. This method is also called the [elbow](#elbow) method."
   ]
  },
  {
   "cell_type": "markdown",
   "metadata": {
    "collapsed": true
   },
   "source": [
    "<a id='preprocessing'></a>\n",
    "### Pre processing"
   ]
  },
  {
   "cell_type": "code",
   "execution_count": 3,
   "metadata": {},
   "outputs": [
    {
     "data": {
      "text/html": [
       "<div>\n",
       "<style>\n",
       "    .dataframe thead tr:only-child th {\n",
       "        text-align: right;\n",
       "    }\n",
       "\n",
       "    .dataframe thead th {\n",
       "        text-align: left;\n",
       "    }\n",
       "\n",
       "    .dataframe tbody tr th {\n",
       "        vertical-align: top;\n",
       "    }\n",
       "</style>\n",
       "<table border=\"1\" class=\"dataframe\">\n",
       "  <thead>\n",
       "    <tr style=\"text-align: right;\">\n",
       "      <th></th>\n",
       "      <th>CustomerID</th>\n",
       "      <th>Genre</th>\n",
       "      <th>Age</th>\n",
       "      <th>Annual Income (k$)</th>\n",
       "      <th>Spending Score (1-100)</th>\n",
       "    </tr>\n",
       "  </thead>\n",
       "  <tbody>\n",
       "    <tr>\n",
       "      <th>0</th>\n",
       "      <td>1</td>\n",
       "      <td>Male</td>\n",
       "      <td>19</td>\n",
       "      <td>15</td>\n",
       "      <td>39</td>\n",
       "    </tr>\n",
       "    <tr>\n",
       "      <th>1</th>\n",
       "      <td>2</td>\n",
       "      <td>Male</td>\n",
       "      <td>21</td>\n",
       "      <td>15</td>\n",
       "      <td>81</td>\n",
       "    </tr>\n",
       "    <tr>\n",
       "      <th>2</th>\n",
       "      <td>3</td>\n",
       "      <td>Female</td>\n",
       "      <td>20</td>\n",
       "      <td>16</td>\n",
       "      <td>6</td>\n",
       "    </tr>\n",
       "    <tr>\n",
       "      <th>3</th>\n",
       "      <td>4</td>\n",
       "      <td>Female</td>\n",
       "      <td>23</td>\n",
       "      <td>16</td>\n",
       "      <td>77</td>\n",
       "    </tr>\n",
       "    <tr>\n",
       "      <th>4</th>\n",
       "      <td>5</td>\n",
       "      <td>Female</td>\n",
       "      <td>31</td>\n",
       "      <td>17</td>\n",
       "      <td>40</td>\n",
       "    </tr>\n",
       "  </tbody>\n",
       "</table>\n",
       "</div>"
      ],
      "text/plain": [
       "   CustomerID   Genre  Age  Annual Income (k$)  Spending Score (1-100)\n",
       "0           1    Male   19                  15                      39\n",
       "1           2    Male   21                  15                      81\n",
       "2           3  Female   20                  16                       6\n",
       "3           4  Female   23                  16                      77\n",
       "4           5  Female   31                  17                      40"
      ]
     },
     "execution_count": 3,
     "metadata": {},
     "output_type": "execute_result"
    }
   ],
   "source": [
    "dataset = pd.read_csv('Mall_Customers.csv')\n",
    "dataset.head()"
   ]
  },
  {
   "cell_type": "markdown",
   "metadata": {},
   "source": [
    "Here, we are looking to cluster the customers based on the Annual Income and the Spending Score. In clustering problems, the Y is unknown."
   ]
  },
  {
   "cell_type": "code",
   "execution_count": 11,
   "metadata": {},
   "outputs": [],
   "source": [
    "x = datset.iloc[:, 3:5].values"
   ]
  },
  {
   "cell_type": "markdown",
   "metadata": {},
   "source": [
    "Feature scaling is not that important because the magnitude is not so important with respect to K-Means clustering, as the centroid method is used."
   ]
  },
  {
   "cell_type": "markdown",
   "metadata": {},
   "source": [
    "<a id='building'></a>\n",
    "### Building the model."
   ]
  },
  {
   "cell_type": "code",
   "execution_count": 7,
   "metadata": {
    "collapsed": true
   },
   "outputs": [],
   "source": [
    "from sklearn.cluster import KMeans"
   ]
  },
  {
   "cell_type": "code",
   "execution_count": 18,
   "metadata": {
    "collapsed": true
   },
   "outputs": [],
   "source": [
    "# This will have the wcss values for each of the different number of centroids that we are selecting.\n",
    "wcss = []"
   ]
  },
  {
   "cell_type": "markdown",
   "metadata": {},
   "source": [
    "Next we build the model based on the [KMeans](http://scikit-learn.org/stable/modules/generated/sklearn.cluster.KMeans.html) library. Here, the model gets built according to the n_init, i.e the number of iterations we are selecting and then we select the one where the elbow is occuring."
   ]
  },
  {
   "cell_type": "code",
   "execution_count": 19,
   "metadata": {},
   "outputs": [],
   "source": [
    "for i in range(1, 11): # We consider the clusters from 1 to 10\n",
    "    kmeans = KMeans(n_clusters=i, init = 'k-means++', max_iter=300, n_init=10, random_state=0)\n",
    "    kmeans.fit(x)\n",
    "    wcss.append(kmeans.inertia_)"
   ]
  },
  {
   "cell_type": "markdown",
   "metadata": {},
   "source": [
    "We now plot the wcss elbow curve to visualise the result we got from building the model iteratively.\n",
    "<a id='elbow'></a>\n",
    "\n",
    "This is the wcss graph that we get, from this, we can see that the elbow occurs at 5. So, we can say that optimally building this model based on 5 clusters would provide best results."
   ]
  },
  {
   "cell_type": "code",
   "execution_count": 21,
   "metadata": {},
   "outputs": [
    {
     "data": {
      "image/png": "[encoded data removed]",
      "text/plain": [
       "<matplotlib.figure.Figure at 0x7f9a42e7e438>"
      ]
     },
     "metadata": {},
     "output_type": "display_data"
    }
   ],
   "source": [
    "plt.plot(range(1, 11), wcss)\n",
    "plt.title('Elbow curve')\n",
    "plt.xlabel('Number of clusters')\n",
    "plt.ylabel('WCSS')\n",
    "plt.show()"
   ]
  },
  {
   "cell_type": "code",
   "execution_count": 36,
   "metadata": {},
   "outputs": [],
   "source": [
    "kmeans = KMeans(n_clusters=5, init = 'k-means++', max_iter=300, n_init=10, random_state=0)\n",
    "# We directly use the fit predict to fit and predict the y values. i.e the 5 groups in which we wish to classify our dataset.\n",
    "y_kmeans = kmeans.fit_predict(x)"
   ]
  },
  {
   "cell_type": "markdown",
   "metadata": {},
   "source": [
    "<a id='result'></a>\n",
    "### Result"
   ]
  },
  {
   "cell_type": "code",
   "execution_count": 43,
   "metadata": {},
   "outputs": [
    {
     "data": {
      "image/png": "[encoded data removed]",
      "text/plain": [
       "<matplotlib.figure.Figure at 0x7f9a4270e908>"
      ]
     },
     "metadata": {},
     "output_type": "display_data"
    }
   ],
   "source": [
    "# We now visualise the clusters.\n",
    "\n",
    "plt.scatter(x[y_kmeans==0, 0], x[y_kmeans==0, 1], s=50, c = 'red', label = 'Careful')\n",
    "plt.scatter(x[y_kmeans==1, 0], x[y_kmeans==1, 1], s=50, c = 'blue', label = 'Standard')\n",
    "plt.scatter(x[y_kmeans==2, 0], x[y_kmeans==2, 1], s=50, c = 'green', label = 'Target')\n",
    "plt.scatter(x[y_kmeans==3, 0], x[y_kmeans==3, 1], s=50, c = 'cyan', label = 'Careless')\n",
    "plt.scatter(x[y_kmeans==4, 0], x[y_kmeans==4, 1], s=50, c = 'magenta', label = 'Sensible')\n",
    "plt.scatter(kmeans.cluster_centers_[:, 0], kmeans.cluster_centers_[:, 1], s=100, c='yellow', label='Centroids')\n",
    "plt.title('Cluster of clients')\n",
    "plt.xlabel('Annual income')\n",
    "plt.ylabel('Spending score')\n",
    "plt.legend()\n",
    "plt.show()"
   ]
  },
  {
   "cell_type": "markdown",
   "metadata": {
    "collapsed": true
   },
   "source": [
    "##### Conclusion\n",
    "We can say that our K-Means model did a very good job in classifying the data set. From that we can classify the clients into differnet categories. I.e we have to find the targets that have a high salary and a high spending score. Anything other than that can be classified according to how the legend in the graph depicts it."
   ]
  }
 ],
 "metadata": {
  "kernelspec": {
   "display_name": "Python 3",
   "language": "python",
   "name": "python3"
  },
  "language_info": {
   "codemirror_mode": {
    "name": "ipython",
    "version": 3
   },
   "file_extension": ".py",
   "mimetype": "text/x-python",
   "name": "python",
   "nbconvert_exporter": "python",
   "pygments_lexer": "ipython3",
   "version": "3.6.1"
  }
 },
 "nbformat": 4,
 "nbformat_minor": 2
}
