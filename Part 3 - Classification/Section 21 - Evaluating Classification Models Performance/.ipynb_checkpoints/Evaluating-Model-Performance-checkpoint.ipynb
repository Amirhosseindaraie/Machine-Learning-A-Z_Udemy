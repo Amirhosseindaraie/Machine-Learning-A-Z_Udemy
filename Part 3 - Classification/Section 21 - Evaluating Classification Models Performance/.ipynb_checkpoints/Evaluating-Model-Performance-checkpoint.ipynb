{
 "cells": [
  {
   "cell_type": "markdown",
   "metadata": {},
   "source": [
    "## Classification Template"
   ]
  },
  {
   "cell_type": "markdown",
   "metadata": {},
   "source": [
    "### Index \n",
    "- [False Positives and False Negatives](#equation)\n",
    "- [Confusion matrix](#preprocessing)\n",
    "- [CAP Curve](#building)\n",
    "- [Result](#result)"
   ]
  },
  {
   "cell_type": "markdown",
   "metadata": {},
   "source": [
    "<a id='equation'></a>\n",
    "### False Positives and False Negatives\n",
    "False positive occurs when the classifier classifies it as positive or it answers our question as positive but is actually false. False negative is when it predicts it as false but is actually true. The number of false negatives and false positives can be very useful in determining the efficiency of our model. Their sum refers to the total number of wrongly predicted data. However, both of them carry different magnitudes of risks. In most cases, a false negative is supposed to be more dangerous than a false positive. But, in other cases like the medical field both the false positive and false negative can be equally dangerous."
   ]
  },
  {
   "attachments": {},
   "cell_type": "markdown",
   "metadata": {
    "collapsed": true
   },
   "source": [
    "<a id='preprocessing'></a>\n",
    "### Confusion matrix\n",
    "\n",
    "<br>\n",
    "<br>\n",
    "<img src='https://rasbt.github.io/mlxtend/user_guide/evaluate/confusion_matrix_files/confusion_matrix_1.png' style=\"margin: 0px;\">\n",
    "\n",
    "The confusion matrix is a matrix used for representing the False positives and False negatives along with the True ones in a matrix in this fashion."
   ]
  },
  {
   "cell_type": "markdown",
   "metadata": {},
   "source": [
    "<a id='building'></a>\n",
    "### CAP Curve\n",
    "\n",
    "The Culmilative Accuracy Profile is a curve that is a graph that represents our model with the average fitted line and the best fitted line. The basic idea is to take the ratio of our model's curve with the best fitted line's curve. Since this is a bit difficult to estimate, we take the mark at the 50% and project to the Y value. The values are assessed as follows,\n",
    "\n",
    "<img src='https://i.ytimg.com/vi/reiZ61V2OlI/maxresdefault.jpg' style=\"margin: 0px;\"height=\"800\" width=\"700\">\n",
    "\n",
    "- $X<60%$, Our model is not useful at all.\n",
    "\n",
    "- $60<X<70$, Our model is poor.\n",
    "\n",
    "- $70<X<80$, Our model is Good.\n",
    "\n",
    "- $80<X<90$, The practically achievable level For CAP Analysis. Should be free from overfitting.\n",
    "\n",
    "- $X>90$, The ideal model if it is free from overfitting.\n"
   ]
  },
  {
   "cell_type": "markdown",
   "metadata": {},
   "source": [
    "<a id='result'></a>\n",
    "### Selecting the right model\n",
    "\n",
    "##### [Pros and Cons of each model](https://www.superdatascience.com/wp-content/uploads/2017/02/Classification-Pros-Cons.pdf)\n",
    "\n",
    "##### Selecting\n",
    "\n",
    "If your problem is linear, you should go for Logistic Regression or SVM.\n",
    "\n",
    "If your problem is non linear, you should go for K-NN, Naive Bayes, Decision Tree or Random Forest.\n",
    "\n",
    "From a business point of view, you would rather use:\n",
    "\n",
    "- Logistic Regression or Naive Bayes when you want to rank your predictions by their probability. For example if you want to rank your customers from the highest probability that they buy a certain product, to the lowest probability. Eventually that allows you to target your marketing campaigns. And of course for this type of business problem, you should use Logistic Regression if your problem is linear, and Naive Bayes if your problem is non linear.\n",
    "\n",
    "- SVM when you want to predict to which segment your customers belong to. Segments can be any kind of segments, for example some market segments you identified earlier with clustering.\n",
    "\n",
    "- Decision Tree when you want to have clear interpretation of your model results,\n",
    "\n",
    "- Random Forest when you are just looking for high performance with less need for interpretation. "
   ]
  }
 ],
 "metadata": {
  "kernelspec": {
   "display_name": "Python 3",
   "language": "python",
   "name": "python3"
  },
  "language_info": {
   "codemirror_mode": {
    "name": "ipython",
    "version": 3
   },
   "file_extension": ".py",
   "mimetype": "text/x-python",
   "name": "python",
   "nbconvert_exporter": "python",
   "pygments_lexer": "ipython3",
   "version": "3.6.1"
  }
 },
 "nbformat": 4,
 "nbformat_minor": 2
}
