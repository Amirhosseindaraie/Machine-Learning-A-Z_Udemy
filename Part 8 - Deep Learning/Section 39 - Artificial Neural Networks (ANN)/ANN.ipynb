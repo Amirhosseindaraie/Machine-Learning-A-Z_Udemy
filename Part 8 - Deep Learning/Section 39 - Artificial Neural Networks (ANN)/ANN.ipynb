{
 "cells": [
  {
   "cell_type": "markdown",
   "metadata": {},
   "source": [
    "## Artificial Neural Network"
   ]
  },
  {
   "cell_type": "markdown",
   "metadata": {},
   "source": [
    "### Index \n",
    "- [Equation and Method](#equation)\n",
    "- [Pre processing](#preprocessing)\n",
    "- [Building the model](#building)\n",
    "- [Result](#result)"
   ]
  },
  {
   "cell_type": "code",
   "execution_count": 1,
   "metadata": {},
   "outputs": [],
   "source": [
    "# importing some basic libraries\n",
    "import numpy as np\n",
    "import pandas as pd\n",
    "import matplotlib.pyplot as plt"
   ]
  },
  {
   "cell_type": "markdown",
   "metadata": {},
   "source": [
    "<a id='equation'></a>\n",
    "### Equation and Method\n",
    "\n",
    "##### Neuron\n",
    "The basic idea behind deep learning is to form neurons just like the brain cells, They will be highly interconnected and each connection will have a weight by which they matter. This is how a neural network functions. In deeplearning, we code this artificial neural network for and devise ways by which the training takes place and so on.\n",
    "\n",
    "##### Activation function\n",
    "The input at a neuron will be the sum of all the product of the input and the weights associated with the input connection. This input is then given to an activation function associated with that particular neuron. This activation function predicts the output/result of that particualar neuron. There are different activation functions which are commonly used. They are:\n",
    "- Step Function\n",
    "- Sigmoid Function\n",
    "- Rectified Linear Function\n",
    "- Softmax\n",
    "\n",
    "##### Learning\n",
    "After the inputs are propogated along the neural network, we need to compare it to the original required output vs the predicted one and then update the weights in order to make it close to the original desired output. For that we use differnt methods to predict the direction we want to move. Basically, we use a loss function (eg: OLS) and then we change the inputs in the desired direction, i.e where we want to reduce the error. One such method is the gradient descent.\n",
    "\n",
    "##### Gradient descent\n",
    "In gradient descent, what happens is that we differentiate the point which we obtained to find the slope at that particular point. I.e to find the direction of error and then we move the point according to where the error is minimized. There are different problems with this approach like the local minima, etc. To resolve that, we use stochastic gradient descent.\n",
    "\n",
    "##### Back propagation\n",
    "Once we have determined the direction of our error, we will propagate it back to the layers and using some mathematical adjustments we will adjust the weights which will favour moving the error to the desired direction. Factors like batch size and learning rate parameter($\\alpha$) determines the speed in which it progresses."
   ]
  },
  {
   "cell_type": "markdown",
   "metadata": {
    "collapsed": true
   },
   "source": [
    "<a id='preprocessing'></a>\n",
    "### Pre processing"
   ]
  },
  {
   "cell_type": "code",
   "execution_count": 2,
   "metadata": {},
   "outputs": [],
   "source": [
    "## importing the libraries for simple linear regression.\n",
    "from sklearn.model_selection import train_test_split\n",
    "from sklearn.preprocessing import StandardScaler\n",
    "from sklearn.preprocessing import LabelEncoder, OneHotEncoder"
   ]
  },
  {
   "cell_type": "code",
   "execution_count": 3,
   "metadata": {},
   "outputs": [
    {
     "data": {
      "text/html": [
       "<div>\n",
       "<style scoped>\n",
       "    .dataframe tbody tr th:only-of-type {\n",
       "        vertical-align: middle;\n",
       "    }\n",
       "\n",
       "    .dataframe tbody tr th {\n",
       "        vertical-align: top;\n",
       "    }\n",
       "\n",
       "    .dataframe thead th {\n",
       "        text-align: right;\n",
       "    }\n",
       "</style>\n",
       "<table border=\"1\" class=\"dataframe\">\n",
       "  <thead>\n",
       "    <tr style=\"text-align: right;\">\n",
       "      <th></th>\n",
       "      <th>RowNumber</th>\n",
       "      <th>CustomerId</th>\n",
       "      <th>Surname</th>\n",
       "      <th>CreditScore</th>\n",
       "      <th>Geography</th>\n",
       "      <th>Gender</th>\n",
       "      <th>Age</th>\n",
       "      <th>Tenure</th>\n",
       "      <th>Balance</th>\n",
       "      <th>NumOfProducts</th>\n",
       "      <th>HasCrCard</th>\n",
       "      <th>IsActiveMember</th>\n",
       "      <th>EstimatedSalary</th>\n",
       "      <th>Exited</th>\n",
       "    </tr>\n",
       "  </thead>\n",
       "  <tbody>\n",
       "    <tr>\n",
       "      <th>0</th>\n",
       "      <td>1</td>\n",
       "      <td>15634602</td>\n",
       "      <td>Hargrave</td>\n",
       "      <td>619</td>\n",
       "      <td>France</td>\n",
       "      <td>Female</td>\n",
       "      <td>42</td>\n",
       "      <td>2</td>\n",
       "      <td>0.00</td>\n",
       "      <td>1</td>\n",
       "      <td>1</td>\n",
       "      <td>1</td>\n",
       "      <td>101348.88</td>\n",
       "      <td>1</td>\n",
       "    </tr>\n",
       "    <tr>\n",
       "      <th>1</th>\n",
       "      <td>2</td>\n",
       "      <td>15647311</td>\n",
       "      <td>Hill</td>\n",
       "      <td>608</td>\n",
       "      <td>Spain</td>\n",
       "      <td>Female</td>\n",
       "      <td>41</td>\n",
       "      <td>1</td>\n",
       "      <td>83807.86</td>\n",
       "      <td>1</td>\n",
       "      <td>0</td>\n",
       "      <td>1</td>\n",
       "      <td>112542.58</td>\n",
       "      <td>0</td>\n",
       "    </tr>\n",
       "    <tr>\n",
       "      <th>2</th>\n",
       "      <td>3</td>\n",
       "      <td>15619304</td>\n",
       "      <td>Onio</td>\n",
       "      <td>502</td>\n",
       "      <td>France</td>\n",
       "      <td>Female</td>\n",
       "      <td>42</td>\n",
       "      <td>8</td>\n",
       "      <td>159660.80</td>\n",
       "      <td>3</td>\n",
       "      <td>1</td>\n",
       "      <td>0</td>\n",
       "      <td>113931.57</td>\n",
       "      <td>1</td>\n",
       "    </tr>\n",
       "    <tr>\n",
       "      <th>3</th>\n",
       "      <td>4</td>\n",
       "      <td>15701354</td>\n",
       "      <td>Boni</td>\n",
       "      <td>699</td>\n",
       "      <td>France</td>\n",
       "      <td>Female</td>\n",
       "      <td>39</td>\n",
       "      <td>1</td>\n",
       "      <td>0.00</td>\n",
       "      <td>2</td>\n",
       "      <td>0</td>\n",
       "      <td>0</td>\n",
       "      <td>93826.63</td>\n",
       "      <td>0</td>\n",
       "    </tr>\n",
       "    <tr>\n",
       "      <th>4</th>\n",
       "      <td>5</td>\n",
       "      <td>15737888</td>\n",
       "      <td>Mitchell</td>\n",
       "      <td>850</td>\n",
       "      <td>Spain</td>\n",
       "      <td>Female</td>\n",
       "      <td>43</td>\n",
       "      <td>2</td>\n",
       "      <td>125510.82</td>\n",
       "      <td>1</td>\n",
       "      <td>1</td>\n",
       "      <td>1</td>\n",
       "      <td>79084.10</td>\n",
       "      <td>0</td>\n",
       "    </tr>\n",
       "  </tbody>\n",
       "</table>\n",
       "</div>"
      ],
      "text/plain": [
       "   RowNumber  CustomerId   Surname  CreditScore Geography  Gender  Age  \\\n",
       "0          1    15634602  Hargrave          619    France  Female   42   \n",
       "1          2    15647311      Hill          608     Spain  Female   41   \n",
       "2          3    15619304      Onio          502    France  Female   42   \n",
       "3          4    15701354      Boni          699    France  Female   39   \n",
       "4          5    15737888  Mitchell          850     Spain  Female   43   \n",
       "\n",
       "   Tenure    Balance  NumOfProducts  HasCrCard  IsActiveMember  \\\n",
       "0       2       0.00              1          1               1   \n",
       "1       1   83807.86              1          0               1   \n",
       "2       8  159660.80              3          1               0   \n",
       "3       1       0.00              2          0               0   \n",
       "4       2  125510.82              1          1               1   \n",
       "\n",
       "   EstimatedSalary  Exited  \n",
       "0        101348.88       1  \n",
       "1        112542.58       0  \n",
       "2        113931.57       1  \n",
       "3         93826.63       0  \n",
       "4         79084.10       0  "
      ]
     },
     "execution_count": 3,
     "metadata": {},
     "output_type": "execute_result"
    }
   ],
   "source": [
    "dataset = pd.read_csv('Churn_Modelling.csv')\n",
    "dataset.head()"
   ]
  },
  {
   "cell_type": "markdown",
   "metadata": {},
   "source": [
    "Our objective is to identify if a user will leave the bank or not, using this given information."
   ]
  },
  {
   "cell_type": "code",
   "execution_count": 4,
   "metadata": {},
   "outputs": [],
   "source": [
    "X = dataset.iloc[:, 3:13].values\n",
    "y = dataset.iloc[:, 13].values"
   ]
  },
  {
   "cell_type": "code",
   "execution_count": 5,
   "metadata": {},
   "outputs": [],
   "source": [
    "labelencoder_X_1 = LabelEncoder()\n",
    "X[:, 1] = labelencoder_X_1.fit_transform(X[:, 1])\n",
    "labelencoder_X_2 = LabelEncoder()\n",
    "X[:, 2] = labelencoder_X_2.fit_transform(X[:, 2])\n",
    "onehotencoder = OneHotEncoder(categorical_features = [1])\n",
    "X = onehotencoder.fit_transform(X).toarray()\n",
    "X = X[:, 1:]"
   ]
  },
  {
   "cell_type": "code",
   "execution_count": 6,
   "metadata": {},
   "outputs": [],
   "source": [
    "X_train, X_test, y_train, y_test = train_test_split(X, y, test_size = 0.2, random_state = 0)"
   ]
  },
  {
   "cell_type": "code",
   "execution_count": 7,
   "metadata": {},
   "outputs": [],
   "source": [
    "sc = StandardScaler()\n",
    "X_train = sc.fit_transform(X_train)\n",
    "X_test = sc.transform(X_test)"
   ]
  },
  {
   "cell_type": "markdown",
   "metadata": {},
   "source": [
    "<a id='building'></a>\n",
    "### Building the model.\n",
    "We build our model using keras. A sequential neural network with two hidden layers."
   ]
  },
  {
   "cell_type": "code",
   "execution_count": 8,
   "metadata": {},
   "outputs": [
    {
     "name": "stderr",
     "output_type": "stream",
     "text": [
      "Using TensorFlow backend.\n"
     ]
    }
   ],
   "source": [
    "import keras\n",
    "from keras.models import Sequential\n",
    "from keras.layers import Dense"
   ]
  },
  {
   "cell_type": "code",
   "execution_count": 10,
   "metadata": {
    "collapsed": true
   },
   "outputs": [
    {
     "name": "stderr",
     "output_type": "stream",
     "text": [
      "/home/nevin/anaconda3/envs/tensorflow/lib/python3.6/site-packages/ipykernel/__main__.py:5: UserWarning: Update your `Dense` call to the Keras 2 API: `Dense(activation=\"relu\", input_dim=11, units=6, kernel_initializer=\"uniform\")`\n",
      "/home/nevin/anaconda3/envs/tensorflow/lib/python3.6/site-packages/ipykernel/__main__.py:8: UserWarning: Update your `Dense` call to the Keras 2 API: `Dense(activation=\"relu\", units=6, kernel_initializer=\"uniform\")`\n",
      "/home/nevin/anaconda3/envs/tensorflow/lib/python3.6/site-packages/ipykernel/__main__.py:11: UserWarning: Update your `Dense` call to the Keras 2 API: `Dense(activation=\"sigmoid\", units=1, kernel_initializer=\"uniform\")`\n"
     ]
    }
   ],
   "source": [
    "# Initialising the ANN\n",
    "classifier = Sequential()\n",
    "\n",
    "# Adding the input layer and the first hidden layer\n",
    "classifier.add(Dense(output_dim = 6, init = 'uniform', activation = 'relu', input_dim = 11))\n",
    "\n",
    "# Adding the second hidden layer\n",
    "classifier.add(Dense(output_dim = 6, init = 'uniform', activation = 'relu'))\n",
    "\n",
    "# Adding the output layer\n",
    "classifier.add(Dense(output_dim = 1, init = 'uniform', activation = 'sigmoid'))\n",
    "\n",
    "# Compiling the ANN\n",
    "classifier.compile(optimizer = 'adam', loss = 'binary_crossentropy', metrics = ['accuracy'])"
   ]
  },
  {
   "cell_type": "code",
   "execution_count": 12,
   "metadata": {
    "scrolled": true
   },
   "outputs": [
    {
     "name": "stderr",
     "output_type": "stream",
     "text": [
      "/home/nevin/anaconda3/envs/tensorflow/lib/python3.6/site-packages/ipykernel/__main__.py:1: UserWarning: The `nb_epoch` argument in `fit` has been renamed `epochs`.\n",
      "  if __name__ == '__main__':\n"
     ]
    },
    {
     "name": "stdout",
     "output_type": "stream",
     "text": [
      "Epoch 1/100\n",
      "8000/8000 [==============================] - 3s 360us/step - loss: 0.5054 - acc: 0.7954\n",
      "Epoch 2/100\n",
      "8000/8000 [==============================] - 1s 122us/step - loss: 0.4311 - acc: 0.7960\n",
      "Epoch 3/100\n",
      "8000/8000 [==============================] - 1s 122us/step - loss: 0.4270 - acc: 0.7960\n",
      "Epoch 4/100\n",
      "8000/8000 [==============================] - 1s 125us/step - loss: 0.4234 - acc: 0.7960\n",
      "Epoch 5/100\n",
      "8000/8000 [==============================] - 1s 123us/step - loss: 0.4203 - acc: 0.8071\n",
      "Epoch 6/100\n",
      "8000/8000 [==============================] - 1s 123us/step - loss: 0.4177 - acc: 0.8237\n",
      "Epoch 7/100\n",
      "8000/8000 [==============================] - 1s 123us/step - loss: 0.4157 - acc: 0.8269\n",
      "Epoch 8/100\n",
      "8000/8000 [==============================] - 1s 120us/step - loss: 0.4135 - acc: 0.8294\n",
      "Epoch 9/100\n",
      "8000/8000 [==============================] - 1s 121us/step - loss: 0.4126 - acc: 0.8326\n",
      "Epoch 10/100\n",
      "8000/8000 [==============================] - 1s 124us/step - loss: 0.4113 - acc: 0.8330\n",
      "Epoch 11/100\n",
      "8000/8000 [==============================] - 1s 124us/step - loss: 0.4103 - acc: 0.8314\n",
      "Epoch 12/100\n",
      "8000/8000 [==============================] - 1s 126us/step - loss: 0.4095 - acc: 0.8320\n",
      "Epoch 13/100\n",
      "8000/8000 [==============================] - 1s 120us/step - loss: 0.4089 - acc: 0.8337\n",
      "Epoch 14/100\n",
      "8000/8000 [==============================] - 1s 119us/step - loss: 0.4081 - acc: 0.8344\n",
      "Epoch 15/100\n",
      "8000/8000 [==============================] - 1s 121us/step - loss: 0.4070 - acc: 0.8332\n",
      "Epoch 16/100\n",
      "8000/8000 [==============================] - 1s 123us/step - loss: 0.4067 - acc: 0.8345\n",
      "Epoch 17/100\n",
      "8000/8000 [==============================] - 1s 138us/step - loss: 0.4062 - acc: 0.8336\n",
      "Epoch 18/100\n",
      "8000/8000 [==============================] - 1s 125us/step - loss: 0.4057 - acc: 0.8346\n",
      "Epoch 19/100\n",
      "8000/8000 [==============================] - 1s 124us/step - loss: 0.4052 - acc: 0.8351\n",
      "Epoch 20/100\n",
      "8000/8000 [==============================] - 1s 132us/step - loss: 0.4049 - acc: 0.8340\n",
      "Epoch 21/100\n",
      "8000/8000 [==============================] - 1s 122us/step - loss: 0.4043 - acc: 0.8349\n",
      "Epoch 22/100\n",
      "8000/8000 [==============================] - 1s 125us/step - loss: 0.4042 - acc: 0.8355\n",
      "Epoch 23/100\n",
      "8000/8000 [==============================] - 1s 128us/step - loss: 0.4026 - acc: 0.8352\n",
      "Epoch 24/100\n",
      "8000/8000 [==============================] - 1s 128us/step - loss: 0.4026 - acc: 0.8356\n",
      "Epoch 25/100\n",
      "8000/8000 [==============================] - 1s 126us/step - loss: 0.4014 - acc: 0.8337\n",
      "Epoch 26/100\n",
      "8000/8000 [==============================] - 1s 137us/step - loss: 0.4006 - acc: 0.8366\n",
      "Epoch 27/100\n",
      "8000/8000 [==============================] - 1s 125us/step - loss: 0.3998 - acc: 0.8349\n",
      "Epoch 28/100\n",
      "8000/8000 [==============================] - 1s 130us/step - loss: 0.3995 - acc: 0.8345\n",
      "Epoch 29/100\n",
      "8000/8000 [==============================] - 1s 128us/step - loss: 0.3989 - acc: 0.8352\n",
      "Epoch 30/100\n",
      "8000/8000 [==============================] - 1s 131us/step - loss: 0.3980 - acc: 0.8341\n",
      "Epoch 31/100\n",
      "8000/8000 [==============================] - 1s 122us/step - loss: 0.3979 - acc: 0.8350\n",
      "Epoch 32/100\n",
      "8000/8000 [==============================] - 1s 123us/step - loss: 0.3972 - acc: 0.8356\n",
      "Epoch 33/100\n",
      "8000/8000 [==============================] - 1s 122us/step - loss: 0.3971 - acc: 0.8364\n",
      "Epoch 34/100\n",
      "8000/8000 [==============================] - 1s 123us/step - loss: 0.3967 - acc: 0.8356\n",
      "Epoch 35/100\n",
      "8000/8000 [==============================] - 1s 141us/step - loss: 0.3970 - acc: 0.8365\n",
      "Epoch 36/100\n",
      "8000/8000 [==============================] - 1s 134us/step - loss: 0.3962 - acc: 0.8354\n",
      "Epoch 37/100\n",
      "8000/8000 [==============================] - 1s 132us/step - loss: 0.3958 - acc: 0.8345\n",
      "Epoch 38/100\n",
      "8000/8000 [==============================] - 1s 126us/step - loss: 0.3960 - acc: 0.8345\n",
      "Epoch 39/100\n",
      "8000/8000 [==============================] - 1s 129us/step - loss: 0.3958 - acc: 0.8355\n",
      "Epoch 40/100\n",
      "8000/8000 [==============================] - 1s 126us/step - loss: 0.3956 - acc: 0.8332\n",
      "Epoch 41/100\n",
      "8000/8000 [==============================] - 1s 125us/step - loss: 0.3957 - acc: 0.8352\n",
      "Epoch 42/100\n",
      "8000/8000 [==============================] - 1s 128us/step - loss: 0.3949 - acc: 0.8334\n",
      "Epoch 43/100\n",
      "8000/8000 [==============================] - 1s 128us/step - loss: 0.3947 - acc: 0.8360\n",
      "Epoch 44/100\n",
      "8000/8000 [==============================] - 1s 129us/step - loss: 0.3949 - acc: 0.8351\n",
      "Epoch 45/100\n",
      "8000/8000 [==============================] - 1s 125us/step - loss: 0.3948 - acc: 0.8352\n",
      "Epoch 46/100\n",
      "8000/8000 [==============================] - 1s 132us/step - loss: 0.3947 - acc: 0.8344\n",
      "Epoch 47/100\n",
      "8000/8000 [==============================] - 1s 131us/step - loss: 0.3944 - acc: 0.8350\n",
      "Epoch 48/100\n",
      "8000/8000 [==============================] - 1s 137us/step - loss: 0.3945 - acc: 0.8352\n",
      "Epoch 49/100\n",
      "8000/8000 [==============================] - 1s 129us/step - loss: 0.3945 - acc: 0.8365\n",
      "Epoch 50/100\n",
      "8000/8000 [==============================] - 1s 129us/step - loss: 0.3943 - acc: 0.8355\n",
      "Epoch 51/100\n",
      "8000/8000 [==============================] - 1s 129us/step - loss: 0.3945 - acc: 0.8370\n",
      "Epoch 52/100\n",
      "8000/8000 [==============================] - 1s 138us/step - loss: 0.3941 - acc: 0.8366\n",
      "Epoch 53/100\n",
      "8000/8000 [==============================] - 1s 135us/step - loss: 0.3942 - acc: 0.8359\n",
      "Epoch 54/100\n",
      "8000/8000 [==============================] - 1s 124us/step - loss: 0.3942 - acc: 0.8361\n",
      "Epoch 55/100\n",
      "8000/8000 [==============================] - 1s 126us/step - loss: 0.3945 - acc: 0.8359\n",
      "Epoch 56/100\n",
      "8000/8000 [==============================] - 1s 128us/step - loss: 0.3941 - acc: 0.8364\n",
      "Epoch 57/100\n",
      "8000/8000 [==============================] - 1s 130us/step - loss: 0.3941 - acc: 0.8362\n",
      "Epoch 58/100\n",
      "8000/8000 [==============================] - 1s 125us/step - loss: 0.3940 - acc: 0.8356\n",
      "Epoch 59/100\n",
      "8000/8000 [==============================] - 1s 129us/step - loss: 0.3942 - acc: 0.8351\n",
      "Epoch 60/100\n",
      "8000/8000 [==============================] - 1s 129us/step - loss: 0.3935 - acc: 0.8367\n",
      "Epoch 61/100\n",
      "8000/8000 [==============================] - 1s 129us/step - loss: 0.3938 - acc: 0.8357\n",
      "Epoch 62/100\n",
      "8000/8000 [==============================] - 1s 138us/step - loss: 0.3935 - acc: 0.8357\n",
      "Epoch 63/100\n",
      "8000/8000 [==============================] - 1s 147us/step - loss: 0.3940 - acc: 0.8362\n",
      "Epoch 64/100\n",
      "8000/8000 [==============================] - 1s 123us/step - loss: 0.3940 - acc: 0.8364\n",
      "Epoch 65/100\n",
      "8000/8000 [==============================] - 1s 130us/step - loss: 0.3935 - acc: 0.8350\n",
      "Epoch 66/100\n",
      "8000/8000 [==============================] - 1s 122us/step - loss: 0.3938 - acc: 0.8347\n",
      "Epoch 67/100\n",
      "8000/8000 [==============================] - 1s 124us/step - loss: 0.3938 - acc: 0.8364\n",
      "Epoch 68/100\n",
      "8000/8000 [==============================] - 1s 125us/step - loss: 0.3936 - acc: 0.8356\n",
      "Epoch 69/100\n",
      "8000/8000 [==============================] - 1s 127us/step - loss: 0.3938 - acc: 0.8354\n",
      "Epoch 70/100\n",
      "8000/8000 [==============================] - 1s 124us/step - loss: 0.3937 - acc: 0.8367\n",
      "Epoch 71/100\n",
      "8000/8000 [==============================] - 1s 125us/step - loss: 0.3935 - acc: 0.8362\n",
      "Epoch 72/100\n",
      "8000/8000 [==============================] - 1s 130us/step - loss: 0.3934 - acc: 0.8370\n",
      "Epoch 73/100\n",
      "8000/8000 [==============================] - 1s 124us/step - loss: 0.3934 - acc: 0.8377\n",
      "Epoch 74/100\n",
      "8000/8000 [==============================] - 1s 131us/step - loss: 0.3936 - acc: 0.8361\n",
      "Epoch 75/100\n",
      "8000/8000 [==============================] - 1s 124us/step - loss: 0.3939 - acc: 0.8364\n",
      "Epoch 76/100\n",
      "8000/8000 [==============================] - 1s 121us/step - loss: 0.3936 - acc: 0.8374\n",
      "Epoch 77/100\n",
      "8000/8000 [==============================] - 1s 121us/step - loss: 0.3933 - acc: 0.8372\n",
      "Epoch 78/100\n",
      "8000/8000 [==============================] - 1s 121us/step - loss: 0.3939 - acc: 0.8354\n",
      "Epoch 79/100\n",
      "8000/8000 [==============================] - 1s 121us/step - loss: 0.3938 - acc: 0.8360\n",
      "Epoch 80/100\n",
      "8000/8000 [==============================] - 1s 125us/step - loss: 0.3932 - acc: 0.8361\n",
      "Epoch 81/100\n",
      "8000/8000 [==============================] - 1s 129us/step - loss: 0.3933 - acc: 0.8371\n",
      "Epoch 82/100\n"
     ]
    },
    {
     "name": "stdout",
     "output_type": "stream",
     "text": [
      "8000/8000 [==============================] - 1s 129us/step - loss: 0.3931 - acc: 0.8366\n",
      "Epoch 83/100\n",
      "8000/8000 [==============================] - 1s 120us/step - loss: 0.3931 - acc: 0.8360\n",
      "Epoch 84/100\n",
      "8000/8000 [==============================] - 1s 118us/step - loss: 0.3928 - acc: 0.8365\n",
      "Epoch 85/100\n",
      "8000/8000 [==============================] - 1s 118us/step - loss: 0.3929 - acc: 0.8361\n",
      "Epoch 86/100\n",
      "8000/8000 [==============================] - 1s 124us/step - loss: 0.3929 - acc: 0.8381\n",
      "Epoch 87/100\n",
      "8000/8000 [==============================] - 1s 120us/step - loss: 0.3933 - acc: 0.8369\n",
      "Epoch 88/100\n",
      "8000/8000 [==============================] - 1s 120us/step - loss: 0.3932 - acc: 0.8371\n",
      "Epoch 89/100\n",
      "8000/8000 [==============================] - 1s 121us/step - loss: 0.3934 - acc: 0.8357\n",
      "Epoch 90/100\n",
      "8000/8000 [==============================] - 1s 121us/step - loss: 0.3932 - acc: 0.8360\n",
      "Epoch 91/100\n",
      "8000/8000 [==============================] - 1s 119us/step - loss: 0.3932 - acc: 0.8370\n",
      "Epoch 92/100\n",
      "8000/8000 [==============================] - 1s 136us/step - loss: 0.3931 - acc: 0.8372\n",
      "Epoch 93/100\n",
      "8000/8000 [==============================] - 1s 128us/step - loss: 0.3929 - acc: 0.8359\n",
      "Epoch 94/100\n",
      "8000/8000 [==============================] - 1s 122us/step - loss: 0.3929 - acc: 0.8367\n",
      "Epoch 95/100\n",
      "8000/8000 [==============================] - 1s 124us/step - loss: 0.3931 - acc: 0.8372\n",
      "Epoch 96/100\n",
      "8000/8000 [==============================] - 1s 123us/step - loss: 0.3933 - acc: 0.8385\n",
      "Epoch 97/100\n",
      "8000/8000 [==============================] - 1s 130us/step - loss: 0.3925 - acc: 0.8361\n",
      "Epoch 98/100\n",
      "8000/8000 [==============================] - 1s 124us/step - loss: 0.3930 - acc: 0.8375\n",
      "Epoch 99/100\n",
      "8000/8000 [==============================] - 1s 122us/step - loss: 0.3929 - acc: 0.8379\n",
      "Epoch 100/100\n",
      "8000/8000 [==============================] - 1s 123us/step - loss: 0.3923 - acc: 0.8357\n"
     ]
    },
    {
     "data": {
      "text/plain": [
       "<keras.callbacks.History at 0x7f37e3bf8748>"
      ]
     },
     "execution_count": 12,
     "metadata": {},
     "output_type": "execute_result"
    }
   ],
   "source": [
    "classifier.fit(X_train, y_train, batch_size = 10, nb_epoch = 100)"
   ]
  },
  {
   "cell_type": "code",
   "execution_count": 13,
   "metadata": {},
   "outputs": [],
   "source": [
    "y_pred = classifier.predict(X_test)\n",
    "y_pred = (y_pred > 0.5)"
   ]
  },
  {
   "cell_type": "markdown",
   "metadata": {},
   "source": [
    "<a id='result'></a>\n",
    "### Result"
   ]
  },
  {
   "cell_type": "code",
   "execution_count": 18,
   "metadata": {},
   "outputs": [],
   "source": [
    "from sklearn.metrics import confusion_matrix\n",
    "def describe_performance(model_name, y_test, y_pred):\n",
    "    cm = confusion_matrix(y_test, y_pred)\n",
    "    TP = cm[0][0]\n",
    "    FP = cm[0][1]\n",
    "    TN = cm[1][1]\n",
    "    FN = cm[1][0]\n",
    "    accuracy = (TP+TN)/(TP+TN+FP+FN)\n",
    "    precision = TP/(TP+FP)\n",
    "    recall = TP/(TP+FN)\n",
    "    f1 = (2*precision*recall)/(precision+recall)\n",
    "    print('## Summary of ', model_name,' ##')\n",
    "    print('The confusion matrix is :')\n",
    "    print(cm)\n",
    "    print('accuracy is ', accuracy)\n",
    "    print('precision is ', precision)\n",
    "    print('recall is ', recall)\n",
    "    print('F1 Score is ', f1)"
   ]
  },
  {
   "cell_type": "code",
   "execution_count": 19,
   "metadata": {},
   "outputs": [
    {
     "name": "stdout",
     "output_type": "stream",
     "text": [
      "## Summary of  ANN  ##\n",
      "The confusion matrix is :\n",
      "[[1551   44]\n",
      " [ 270  135]]\n",
      "accuracy is  0.843\n",
      "precision is  0.9724137931034482\n",
      "recall is  0.8517298187808896\n",
      "F1 Score is  0.90807962529274\n"
     ]
    }
   ],
   "source": [
    "describe_performance('ANN', y_test, y_pred)"
   ]
  },
  {
   "cell_type": "markdown",
   "metadata": {},
   "source": [
    "From this we can say that we have obtained a very good predcition accuracy when using deep learning."
   ]
  }
 ],
 "metadata": {
  "kernelspec": {
   "display_name": "Python [conda env:tensorflow]",
   "language": "python",
   "name": "conda-env-tensorflow-py"
  },
  "language_info": {
   "codemirror_mode": {
    "name": "ipython",
    "version": 3
   },
   "file_extension": ".py",
   "mimetype": "text/x-python",
   "name": "python",
   "nbconvert_exporter": "python",
   "pygments_lexer": "ipython3",
   "version": "3.6.5"
  }
 },
 "nbformat": 4,
 "nbformat_minor": 2
}
