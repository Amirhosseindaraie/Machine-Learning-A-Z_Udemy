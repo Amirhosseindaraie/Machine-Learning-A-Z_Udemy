{
 "cells": [
  {
   "cell_type": "markdown",
   "metadata": {},
   "source": [
    "## Regression Template"
   ]
  },
  {
   "cell_type": "markdown",
   "metadata": {},
   "source": [
    "### Index \n",
    "- [R-Square](#rsquared)\n",
    "- [Adjusted R-Square](#adjustedr)\n",
    "- [Pros and Cons](#procon)"
   ]
  },
  {
   "cell_type": "code",
   "execution_count": 1,
   "metadata": {
    "collapsed": true
   },
   "outputs": [],
   "source": [
    "# importing some basic libraries\n",
    "import numpy as np\n",
    "import matplotlib.pyplot as plt"
   ]
  },
  {
   "cell_type": "markdown",
   "metadata": {},
   "source": [
    "<a id='rsquared'></a>\n",
    "### R-Square\n",
    "\n",
    "R-Squared is a method by which we calculate the sum of squares of errors of our line and the line we take along the average of the data points. We then calculate R squared by the following formula.\n",
    "\n",
    ">## $R^{2} = 1 - \\frac{SS_{res}}{SS_{tot}}$\n",
    ">$SS_{res} = \\Sigma_{i=1}^{n}$ $ (Y_{i}-Y_{i}^{'})$\n",
    "\n",
    ">$SS_{tot} = \\Sigma_{i=1}^{n}$ $ (Y_{i}-Y_{avg})$\n",
    "\n",
    "The basic idea is to fit a line in which we get the $R^{2}$ value as the maximum."
   ]
  },
  {
   "cell_type": "code",
   "execution_count": 4,
   "metadata": {},
   "outputs": [],
   "source": [
    "x = np.arange(1, 100, 1)\n",
    "y = np.arange(1, 100, 1)\n",
    "average = x.mean()"
   ]
  },
  {
   "cell_type": "code",
   "execution_count": 5,
   "metadata": {},
   "outputs": [
    {
     "data": {
      "image/png": "[encoded data removed]",
      "text/plain": [
       "<matplotlib.figure.Figure at 0x7f250067a898>"
      ]
     },
     "metadata": {},
     "output_type": "display_data"
    }
   ],
   "source": [
    "plt.plot(x, y, color='red', label='Predicted Regression Line')\n",
    "plt.axhline(y=average, label='Regression Line along the mean')\n",
    "plt.title(\"simple x vs y representation\")\n",
    "plt.grid()\n",
    "plt.legend()\n",
    "plt.show()"
   ]
  },
  {
   "cell_type": "markdown",
   "metadata": {
    "collapsed": true
   },
   "source": [
    "<a id='adjustedr'></a>\n",
    "### Adjusted R-Square"
   ]
  },
  {
   "cell_type": "markdown",
   "metadata": {},
   "source": [
    "##### The problem\n",
    "\n",
    "The problem with R-Squared is that, when we use multiple linear regression, the model optimises using the R-square in such a way that they decrease the coefficients of the variables that do not have significant impact on the dependent variable. Thus when the R-Squared value does not increase, we end up fitting a line that eventhough have the best R-squared value might not be the best line. So to factor in the number of more variables that we have added, we use a method called Adjusted R-Squre\n",
    "\n",
    "### $R^{2}_{adj} = 1 - (1-R^{2})\\frac{(n-1)}{n-p-1}$\n",
    "\n",
    "This formula helps fitting the lines for multiple regressors more perfectly."
   ]
  },
  {
   "cell_type": "markdown",
   "metadata": {},
   "source": [
    "##### Using Adjusted R-Squared along with P values\n",
    "\n",
    "When we are building our model, we can also compare the R-squared values for the various models that we have, So with respect to the adjusted R-squared values, we can carry out the different steps like excluding and including variables."
   ]
  },
  {
   "cell_type": "markdown",
   "metadata": {},
   "source": [
    "<a id='procon'></a>\n",
    "### Pros and Cons"
   ]
  },
  {
   "cell_type": "markdown",
   "metadata": {},
   "source": [
    "[Pros and Cons](https://www.superdatascience.com/wp-content/uploads/2017/02/Regression-Pros-Cons.pdf)\n",
    "\n",
    "[Summary](https://www.udemy.com/machinelearning/learn/v4/t/lecture/6403742?start=0)\n",
    "\n",
    "##### Interpreting the coefficients\n",
    "When comparing the different coefficients of the different variables, we need to make sure that the variables are measured in the same units or a comparable term before stating the comparison. As comparing just in the magnitude of the coefficients will not lead to a good comparison if the units are different."
   ]
  }
 ],
 "metadata": {
  "kernelspec": {
   "display_name": "Python 3",
   "language": "python",
   "name": "python3"
  },
  "language_info": {
   "codemirror_mode": {
    "name": "ipython",
    "version": 3
   },
   "file_extension": ".py",
   "mimetype": "text/x-python",
   "name": "python",
   "nbconvert_exporter": "python",
   "pygments_lexer": "ipython3",
   "version": "3.6.1"
  }
 },
 "nbformat": 4,
 "nbformat_minor": 2
}
